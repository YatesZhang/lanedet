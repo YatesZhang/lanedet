{
 "cells": [
  {
   "cell_type": "code",
   "execution_count": 1,
   "metadata": {},
   "outputs": [
    {
     "name": "stderr",
     "output_type": "stream",
     "text": [
      "/disk/zhangyunzhi/anaconda3/envs/ganet/lib/python3.7/site-packages/tqdm/auto.py:22: TqdmWarning: IProgress not found. Please update jupyter and ipywidgets. See https://ipywidgets.readthedocs.io/en/stable/user_install.html\n",
      "  from .autonotebook import tqdm as notebook_tqdm\n",
      "/disk/zhangyunzhi/anaconda3/envs/ganet/lib/python3.7/site-packages/ipykernel_launcher.py:6: DeprecationWarning: Using or importing the ABCs from 'collections' instead of from 'collections.abc' is deprecated since Python 3.3,and in 3.9 it will stop working\n",
      "  \n"
     ]
    }
   ],
   "source": [
    "import torch\n",
    "import sys\n",
    "sys.path.append('..')\n",
    "from configs.culane.final_exp_res18_s8 import *\n",
    "from resnet import ResNet\n",
    "from collections import Iterable\n",
    "# from lanepoints_conv import LanePointsConv\n",
    "# from dcn_fpn import DeformFPN\n",
    "# from mmdet.ops import DeformConv1D"
   ]
  },
  {
   "cell_type": "code",
   "execution_count": 5,
   "metadata": {},
   "outputs": [],
   "source": [
    "from torch import nn\n",
    "from torch import randn"
   ]
  },
  {
   "cell_type": "code",
   "execution_count": 68,
   "metadata": {},
   "outputs": [
    {
     "data": {
      "text/plain": [
       "Net(\n",
       "  (backbone): Conv2d(1, 1, kernel_size=(3, 3), stride=(1, 1), padding=(1, 1))\n",
       "  (head1): Conv2d(1, 1, kernel_size=(1, 1), stride=(1, 1))\n",
       "  (head2): Conv2d(1, 1, kernel_size=(1, 1), stride=(1, 1))\n",
       ")"
      ]
     },
     "execution_count": 68,
     "metadata": {},
     "output_type": "execute_result"
    }
   ],
   "source": [
    "class Net(nn.Module):\n",
    "    def __init__(self):\n",
    "        super().__init__()\n",
    "        self.backbone = nn.Conv2d(1, 1, 3, padding=1)\n",
    "        self.head1 = nn.Conv2d(1, 1, 1)\n",
    "        self.head2 = nn.Conv2d(1, 1, 1)\n",
    "    def forward(self, x):\n",
    "        x = self.backbone(x)\n",
    "        return self.head1(x).sum().reshape(1), self.head2(x).sum().reshape(1)\n",
    "\n",
    "dataset = [(randn(1,1,4,4), torch.Tensor([2])), (randn(1,1,4,4), torch.Tensor([3])), (randn(1,1,4,4), torch.Tensor([2]))]\n",
    "net = Net()\n",
    "sgd = torch.optim.SGD(net.parameters(), lr=0.01, momentum=0.9)\n",
    "loss_fn = nn.L1Loss()\n",
    "net.train()"
   ]
  },
  {
   "cell_type": "code",
   "execution_count": 69,
   "metadata": {},
   "outputs": [
    {
     "data": {
      "text/plain": [
       "[Parameter containing:\n",
       " tensor([[[[-0.2794,  0.2380,  0.2667],\n",
       "           [-0.2585,  0.2796, -0.0005],\n",
       "           [ 0.2131,  0.1153, -0.1416]]]], requires_grad=True),\n",
       " Parameter containing:\n",
       " tensor([-0.1325], requires_grad=True),\n",
       " Parameter containing:\n",
       " tensor([[[[-0.5082]]]], requires_grad=True),\n",
       " Parameter containing:\n",
       " tensor([0.1795], requires_grad=True),\n",
       " Parameter containing:\n",
       " tensor([[[[0.0334]]]], requires_grad=True),\n",
       " Parameter containing:\n",
       " tensor([-0.6952], requires_grad=True)]"
      ]
     },
     "execution_count": 69,
     "metadata": {},
     "output_type": "execute_result"
    }
   ],
   "source": [
    "origin_params = []\n",
    "for params in net.parameters():\n",
    "    origin_params.append(params)\n",
    "origin_params"
   ]
  },
  {
   "cell_type": "code",
   "execution_count": null,
   "metadata": {},
   "outputs": [],
   "source": []
  },
  {
   "cell_type": "code",
   "execution_count": 72,
   "metadata": {},
   "outputs": [
    {
     "name": "stdout",
     "output_type": "stream",
     "text": [
      "tensor([2.0415], grad_fn=<AddBackward0>)\n",
      "tensor([4.6729], grad_fn=<AddBackward0>)\n",
      "tensor([5.6235], grad_fn=<AddBackward0>)\n",
      "tensor([2.5016], grad_fn=<AddBackward0>)\n",
      "tensor([2.5316], grad_fn=<AddBackward0>)\n",
      "tensor([5.4308], grad_fn=<AddBackward0>)\n",
      "tensor([3.6130], grad_fn=<AddBackward0>)\n",
      "tensor([5.1263], grad_fn=<AddBackward0>)\n",
      "tensor([3.9947], grad_fn=<AddBackward0>)\n",
      "tensor([4.2285], grad_fn=<AddBackward0>)\n",
      "tensor([2.1372], grad_fn=<AddBackward0>)\n",
      "tensor([3.6323], grad_fn=<AddBackward0>)\n",
      "tensor([1.8968], grad_fn=<AddBackward0>)\n",
      "tensor([4.8007], grad_fn=<AddBackward0>)\n",
      "tensor([5.7630], grad_fn=<AddBackward0>)\n",
      "tensor([2.5840], grad_fn=<AddBackward0>)\n",
      "tensor([2.4782], grad_fn=<AddBackward0>)\n",
      "tensor([5.3370], grad_fn=<AddBackward0>)\n",
      "tensor([3.5677], grad_fn=<AddBackward0>)\n",
      "tensor([5.1639], grad_fn=<AddBackward0>)\n",
      "tensor([4.0429], grad_fn=<AddBackward0>)\n",
      "tensor([4.3072], grad_fn=<AddBackward0>)\n",
      "tensor([2.1336], grad_fn=<AddBackward0>)\n",
      "tensor([3.5829], grad_fn=<AddBackward0>)\n",
      "tensor([1.8242], grad_fn=<AddBackward0>)\n",
      "tensor([4.8798], grad_fn=<AddBackward0>)\n",
      "tensor([5.7944], grad_fn=<AddBackward0>)\n",
      "tensor([2.5853], grad_fn=<AddBackward0>)\n",
      "tensor([2.3837], grad_fn=<AddBackward0>)\n",
      "tensor([5.3050], grad_fn=<AddBackward0>)\n"
     ]
    }
   ],
   "source": [
    "for epoch in range(10):\n",
    "    for x, y in dataset:\n",
    "        sgd.zero_grad()\n",
    "        out = net(x)\n",
    "        y = torch.Tensor(y)\n",
    "        loss = abs(out[0] - y) + abs(out[1] - y)\n",
    "        print(loss)\n",
    "        loss.backward()\n",
    "        sgd.step()\n",
    "    after_params = []\n",
    "for params in net.parameters():\n",
    "    after_params.append(params)"
   ]
  },
  {
   "cell_type": "code",
   "execution_count": 73,
   "metadata": {},
   "outputs": [
    {
     "data": {
      "text/plain": [
       "[tensor([[[[True, True, True],\n",
       "           [True, True, True],\n",
       "           [True, True, True]]]]),\n",
       " tensor([True]),\n",
       " tensor([[[[True]]]]),\n",
       " tensor([True]),\n",
       " tensor([[[[True]]]]),\n",
       " tensor([True])]"
      ]
     },
     "execution_count": 73,
     "metadata": {},
     "output_type": "execute_result"
    }
   ],
   "source": [
    "[x==y for x, y in zip(origin_params, after_params)]\n"
   ]
  },
  {
   "cell_type": "code",
   "execution_count": 54,
   "metadata": {},
   "outputs": [
    {
     "data": {
      "text/plain": [
       "([Parameter containing:\n",
       "  tensor([[[[0.1054, 0.5890, 0.5834],\n",
       "            [0.1104, 0.3065, 0.0310],\n",
       "            [0.1167, 0.0346, 0.3317]]]], requires_grad=True),\n",
       "  Parameter containing:\n",
       "  tensor([-0.3986], requires_grad=True),\n",
       "  Parameter containing:\n",
       "  tensor([[[[-0.0297]]]], requires_grad=True),\n",
       "  Parameter containing:\n",
       "  tensor([0.0152], requires_grad=True),\n",
       "  Parameter containing:\n",
       "  tensor([[[[0.2699]]]], requires_grad=True),\n",
       "  Parameter containing:\n",
       "  tensor([0.4905], requires_grad=True)],\n",
       " [Parameter containing:\n",
       "  tensor([[[[0.1054, 0.5890, 0.5834],\n",
       "            [0.1104, 0.3065, 0.0310],\n",
       "            [0.1167, 0.0346, 0.3317]]]], requires_grad=True),\n",
       "  Parameter containing:\n",
       "  tensor([-0.3986], requires_grad=True),\n",
       "  Parameter containing:\n",
       "  tensor([[[[-0.0297]]]], requires_grad=True),\n",
       "  Parameter containing:\n",
       "  tensor([0.0152], requires_grad=True),\n",
       "  Parameter containing:\n",
       "  tensor([[[[0.2699]]]], requires_grad=True),\n",
       "  Parameter containing:\n",
       "  tensor([0.4905], requires_grad=True)])"
      ]
     },
     "execution_count": 54,
     "metadata": {},
     "output_type": "execute_result"
    }
   ],
   "source": []
  },
  {
   "cell_type": "markdown",
   "metadata": {},
   "source": []
  },
  {
   "cell_type": "code",
   "execution_count": 7,
   "metadata": {},
   "outputs": [],
   "source": [
    "from ganet_head import GANetHeadFast"
   ]
  },
  {
   "cell_type": "code",
   "execution_count": 29,
   "metadata": {},
   "outputs": [],
   "source": [
    "head = model['head'].copy()\n",
    "head.pop('type')\n",
    "net = GANetHeadFast(**head)\n",
    "head_name = 'keypts_head'\n",
    "assert hasattr(net, head_name)\n",
    "head = getattr(net, head_name)    # e.g. self.keypts_head: CtnetHead"
   ]
  },
  {
   "cell_type": "code",
   "execution_count": 17,
   "metadata": {},
   "outputs": [],
   "source": []
  },
  {
   "cell_type": "code",
   "execution_count": 23,
   "metadata": {},
   "outputs": [
    {
     "data": {
      "text/plain": [
       "CtnetHead(\n",
       "  (hm): Sequential(\n",
       "    (0): Conv2d(64, 64, kernel_size=(3, 3), stride=(1, 1), padding=(1, 1))\n",
       "    (1): ReLU(inplace=True)\n",
       "    (2): Conv2d(64, 1, kernel_size=(1, 1), stride=(1, 1))\n",
       "  )\n",
       ")"
      ]
     },
     "execution_count": 23,
     "metadata": {},
     "output_type": "execute_result"
    }
   ],
   "source": [
    "head"
   ]
  },
  {
   "cell_type": "code",
   "execution_count": 31,
   "metadata": {},
   "outputs": [
    {
     "name": "stdout",
     "output_type": "stream",
     "text": [
      "hm\n"
     ]
    }
   ],
   "source": [
    "for head_name in head.heads:\n",
    "    print(head_name)\n",
    "    for params in getattr(head, head_name).parameters():\n",
    "        params.requires_grad = False"
   ]
  },
  {
   "cell_type": "code",
   "execution_count": 32,
   "metadata": {},
   "outputs": [
    {
     "name": "stdout",
     "output_type": "stream",
     "text": [
      "hm\n",
      "False\n",
      "False\n",
      "False\n",
      "False\n"
     ]
    }
   ],
   "source": [
    "for head_name in head.heads:\n",
    "    print(head_name)\n",
    "    for params in getattr(head, head_name).parameters():\n",
    "        print(params.requires_grad)"
   ]
  },
  {
   "cell_type": "code",
   "execution_count": 5,
   "metadata": {},
   "outputs": [
    {
     "data": {
      "text/plain": [
       "[Parameter containing:\n",
       " tensor([[[[ 0.2660,  0.0716,  0.2645],\n",
       "           [-0.2987, -0.0760,  0.2019],\n",
       "           [-0.3069, -0.2566,  0.2217]]]], requires_grad=True),\n",
       " Parameter containing:\n",
       " tensor([0.1298], requires_grad=True)]"
      ]
     },
     "execution_count": 5,
     "metadata": {},
     "output_type": "execute_result"
    }
   ],
   "source": [
    "conv = torch.nn.Conv2d(1,1,3)\n",
    "def f(p):\n",
    "    p.requires_grad = False\n",
    "    return p\n",
    "[p for p in conv.parameters()]"
   ]
  },
  {
   "cell_type": "code",
   "execution_count": 6,
   "metadata": {},
   "outputs": [
    {
     "name": "stdout",
     "output_type": "stream",
     "text": [
      "Mon Dec  5 20:50:40 2022       \r\n",
      "+-----------------------------------------------------------------------------+\r\n",
      "| NVIDIA-SMI 510.60.02    Driver Version: 510.60.02    CUDA Version: 11.6     |\r\n",
      "|-------------------------------+----------------------+----------------------+\r\n",
      "| GPU  Name        Persistence-M| Bus-Id        Disp.A | Volatile Uncorr. ECC |\r\n",
      "| Fan  Temp  Perf  Pwr:Usage/Cap|         Memory-Usage | GPU-Util  Compute M. |\r\n",
      "|                               |                      |               MIG M. |\r\n",
      "|===============================+======================+======================|\r\n",
      "|   0  NVIDIA GeForce ...  Off  | 00000000:02:00.0 Off |                  N/A |\r\n",
      "| 67%   65C    P2   184W / 250W |   3230MiB / 11264MiB |     57%      Default |\r\n",
      "|                               |                      |                  N/A |\r\n",
      "+-------------------------------+----------------------+----------------------+\r\n",
      "|   1  NVIDIA GeForce ...  Off  | 00000000:82:00.0 Off |                  N/A |\r\n",
      "| 83%   78C    P2   214W / 250W |   9361MiB / 11264MiB |     73%      Default |\r\n",
      "|                               |                      |                  N/A |\r\n",
      "+-------------------------------+----------------------+----------------------+\r\n",
      "                                                                               \r\n",
      "+-----------------------------------------------------------------------------+\r\n",
      "| Processes:                                                                  |\r\n",
      "|  GPU   GI   CI        PID   Type   Process name                  GPU Memory |\r\n",
      "|        ID   ID                                                   Usage      |\r\n",
      "|=============================================================================|\r\n",
      "|    0   N/A  N/A     40782      C   python                           3225MiB |\r\n",
      "|    1   N/A  N/A     21824      C   python                           2809MiB |\r\n",
      "|    1   N/A  N/A     31343      C   python                           6547MiB |\r\n",
      "+-----------------------------------------------------------------------------+\r\n"
     ]
    }
   ],
   "source": [
    "!nvidia-smi"
   ]
  },
  {
   "cell_type": "code",
   "execution_count": 4,
   "metadata": {},
   "outputs": [
    {
     "data": {
      "text/plain": [
       "'Overall Precision: 1.000000 Recall: 2.000000 F1: 3.000000'"
      ]
     },
     "execution_count": 4,
     "metadata": {},
     "output_type": "execute_result"
    }
   ],
   "source": [
    "P, R, F = (1,2,3)\n",
    "overall_result_str = ('Overall Precision: %f Recall: %f F1: %f' % (P, R, F))\n",
    "overall_result_str"
   ]
  },
  {
   "cell_type": "code",
   "execution_count": 1,
   "metadata": {},
   "outputs": [],
   "source": [
    "from shapely.geometry import Polygon, Point, LineString, MultiLineString"
   ]
  },
  {
   "cell_type": "code",
   "execution_count": 7,
   "metadata": {},
   "outputs": [
    {
     "name": "stdout",
     "output_type": "stream",
     "text": [
      "LINESTRING (1 2, 2 3)\n"
     ]
    }
   ],
   "source": [
    "for i in MultiLineString([[(1,2),(2,3)]]).geoms:\n",
    "    print(i)"
   ]
  },
  {
   "cell_type": "code",
   "execution_count": 8,
   "metadata": {},
   "outputs": [
    {
     "data": {
      "text/plain": [
       "0"
      ]
     },
     "execution_count": 8,
     "metadata": {},
     "output_type": "execute_result"
    }
   ],
   "source": [
    "class A:\n",
    "    def __init__(self):\n",
    "        self._epoch = 0\n",
    "    @property\n",
    "    def epoch(self):\n",
    "        return self._epoch\n",
    "    def loop(self):\n",
    "        self._epoch += 1\n",
    "        print(self.epoch)\n",
    "a = A()\n",
    "a.epoch"
   ]
  },
  {
   "cell_type": "code",
   "execution_count": 12,
   "metadata": {},
   "outputs": [
    {
     "ename": "ValueError",
     "evalue": "too many values to unpack (expected 2)",
     "output_type": "error",
     "traceback": [
      "\u001b[0;31m---------------------------------------------------------------------------\u001b[0m",
      "\u001b[0;31mValueError\u001b[0m                                Traceback (most recent call last)",
      "\u001b[0;32m<ipython-input-12-61a4aa603f93>\u001b[0m in \u001b[0;36m<module>\u001b[0;34m()\u001b[0m\n\u001b[0;32m----> 1\u001b[0;31m \u001b[0;34m{\u001b[0m\u001b[0mk\u001b[0m\u001b[0;34m:\u001b[0m\u001b[0mv\u001b[0m \u001b[0;32mfor\u001b[0m \u001b[0mk\u001b[0m\u001b[0;34m,\u001b[0m\u001b[0mv\u001b[0m \u001b[0;32min\u001b[0m \u001b[0mmodel\u001b[0m\u001b[0;34m[\u001b[0m\u001b[0;34m'backbone'\u001b[0m\u001b[0;34m]\u001b[0m\u001b[0;34m}\u001b[0m\u001b[0;34m\u001b[0m\u001b[0m\n\u001b[0m",
      "\u001b[0;32m<ipython-input-12-61a4aa603f93>\u001b[0m in \u001b[0;36m<dictcomp>\u001b[0;34m(.0)\u001b[0m\n\u001b[0;32m----> 1\u001b[0;31m \u001b[0;34m{\u001b[0m\u001b[0mk\u001b[0m\u001b[0;34m:\u001b[0m\u001b[0mv\u001b[0m \u001b[0;32mfor\u001b[0m \u001b[0mk\u001b[0m\u001b[0;34m,\u001b[0m\u001b[0mv\u001b[0m \u001b[0;32min\u001b[0m \u001b[0mmodel\u001b[0m\u001b[0;34m[\u001b[0m\u001b[0;34m'backbone'\u001b[0m\u001b[0;34m]\u001b[0m\u001b[0;34m}\u001b[0m\u001b[0;34m\u001b[0m\u001b[0m\n\u001b[0m",
      "\u001b[0;31mValueError\u001b[0m: too many values to unpack (expected 2)"
     ]
    }
   ],
   "source": [
    "{k:v for k,v in model['backbone']}"
   ]
  },
  {
   "cell_type": "code",
   "execution_count": 5,
   "metadata": {},
   "outputs": [
    {
     "data": {
      "text/plain": [
       "{'type': 'ResNet',\n",
       " 'depth': 18,\n",
       " 'strides': (1, 2, 2, 2),\n",
       " 'num_stages': 4,\n",
       " 'out_indices': (0, 1, 2, 3),\n",
       " 'frozen_stages': 1,\n",
       " 'norm_cfg': {'type': 'BN', 'requires_grad': True},\n",
       " 'norm_eval': True,\n",
       " 'style': 'pytorch'}"
      ]
     },
     "execution_count": 5,
     "metadata": {},
     "output_type": "execute_result"
    }
   ],
   "source": [
    "model['backbone']"
   ]
  },
  {
   "cell_type": "code",
   "execution_count": 6,
   "metadata": {},
   "outputs": [
    {
     "data": {
      "text/plain": [
       "{'type': 'DeformFPN',\n",
       " 'in_channels': [128, 256, 512],\n",
       " 'out_channels': 64,\n",
       " 'dcn_point_num': [7, 5, 3],\n",
       " 'deconv_layer': [True, False, False],\n",
       " 'deconv_before': False,\n",
       " 'trans_idx': -1,\n",
       " 'dcn_only_cls': True,\n",
       " 'trans_cfg': {'in_dim': 512,\n",
       "  'attn_in_dims': [512, 64],\n",
       "  'attn_out_dims': [64, 64],\n",
       "  'strides': [1, 1],\n",
       "  'ratios': [4, 4],\n",
       "  'pos_shape': (1, 10, 25)}}"
      ]
     },
     "execution_count": 6,
     "metadata": {},
     "output_type": "execute_result"
    }
   ],
   "source": [
    "model['neck']"
   ]
  },
  {
   "cell_type": "code",
   "execution_count": 7,
   "metadata": {},
   "outputs": [
    {
     "data": {
      "text/plain": [
       "{'type': 'GANetHeadFast',\n",
       " 'heads': {'hm': 1},\n",
       " 'in_channels': 64,\n",
       " 'branch_in_channels': 64,\n",
       " 'num_classes': 1,\n",
       " 'hm_idx': 0,\n",
       " 'joint_nums': 1}"
      ]
     },
     "execution_count": 7,
     "metadata": {},
     "output_type": "execute_result"
    }
   ],
   "source": [
    "model['head']"
   ]
  },
  {
   "cell_type": "code",
   "execution_count": 23,
   "metadata": {},
   "outputs": [],
   "source": [
    "img = torch.randn((1,3,320,800))\n",
    "backbone = ResNet(**get(model['backbone']))\n",
    "fea = backbone(img)"
   ]
  },
  {
   "cell_type": "code",
   "execution_count": 3,
   "metadata": {},
   "outputs": [
    {
     "ename": "NameError",
     "evalue": "name '_C' is not defined",
     "output_type": "error",
     "traceback": [
      "\u001b[0;31m---------------------------------------------------------------------------\u001b[0m",
      "\u001b[0;31mNameError\u001b[0m                                 Traceback (most recent call last)",
      "\u001b[0;32m<ipython-input-3-eb42ca6e4af3>\u001b[0m in \u001b[0;36m<module>\u001b[0;34m()\u001b[0m\n\u001b[0;32m----> 1\u001b[0;31m \u001b[0;32mimport\u001b[0m \u001b[0mtorch\u001b[0m\u001b[0;34m\u001b[0m\u001b[0m\n\u001b[0m",
      "\u001b[0;32m/disk/zhangyunzhi/anaconda3/lib/python3.7/site-packages/torch/__init__.py\u001b[0m in \u001b[0;36m<module>\u001b[0;34m()\u001b[0m\n\u001b[1;32m    231\u001b[0m     \u001b[0;32mraise\u001b[0m  \u001b[0;31m# If __file__ is not None the cause is unknown, so just re-raise.\u001b[0m\u001b[0;34m\u001b[0m\u001b[0m\n\u001b[1;32m    232\u001b[0m \u001b[0;34m\u001b[0m\u001b[0m\n\u001b[0;32m--> 233\u001b[0;31m \u001b[0;32mfor\u001b[0m \u001b[0mname\u001b[0m \u001b[0;32min\u001b[0m \u001b[0mdir\u001b[0m\u001b[0;34m(\u001b[0m\u001b[0m_C\u001b[0m\u001b[0;34m)\u001b[0m\u001b[0;34m:\u001b[0m\u001b[0;34m\u001b[0m\u001b[0m\n\u001b[0m\u001b[1;32m    234\u001b[0m     \u001b[0;32mif\u001b[0m \u001b[0mname\u001b[0m\u001b[0;34m[\u001b[0m\u001b[0;36m0\u001b[0m\u001b[0;34m]\u001b[0m \u001b[0;34m!=\u001b[0m \u001b[0;34m'_'\u001b[0m \u001b[0;32mand\u001b[0m \u001b[0;32mnot\u001b[0m \u001b[0mname\u001b[0m\u001b[0;34m.\u001b[0m\u001b[0mendswith\u001b[0m\u001b[0;34m(\u001b[0m\u001b[0;34m'Base'\u001b[0m\u001b[0;34m)\u001b[0m\u001b[0;34m:\u001b[0m\u001b[0;34m\u001b[0m\u001b[0m\n\u001b[1;32m    235\u001b[0m         \u001b[0m__all__\u001b[0m\u001b[0;34m.\u001b[0m\u001b[0mappend\u001b[0m\u001b[0;34m(\u001b[0m\u001b[0mname\u001b[0m\u001b[0;34m)\u001b[0m\u001b[0;34m\u001b[0m\u001b[0m\n",
      "\u001b[0;31mNameError\u001b[0m: name '_C' is not defined"
     ]
    }
   ],
   "source": [
    "import torch"
   ]
  }
 ],
 "metadata": {
  "kernelspec": {
   "display_name": "Python 3",
   "language": "python",
   "name": "python3"
  },
  "language_info": {
   "codemirror_mode": {
    "name": "ipython",
    "version": 3
   },
   "file_extension": ".py",
   "mimetype": "text/x-python",
   "name": "python",
   "nbconvert_exporter": "python",
   "pygments_lexer": "ipython3",
   "version": "3.7.12"
  },
  "vscode": {
   "interpreter": {
    "hash": "f8461f7047a77b42e8b46f00ec14843b2e85124c815e159c44c4f9f5bc2dbf67"
   }
  }
 },
 "nbformat": 4,
 "nbformat_minor": 2
}
